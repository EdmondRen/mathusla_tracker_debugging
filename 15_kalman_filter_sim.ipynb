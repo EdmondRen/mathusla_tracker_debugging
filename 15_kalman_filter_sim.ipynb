{
 "cells": [
  {
   "cell_type": "code",
   "execution_count": 1,
   "metadata": {},
   "outputs": [
    {
     "name": "stdout",
     "output_type": "stream",
     "text": [
      "Welcome to JupyROOT 6.24/06\n"
     ]
    }
   ],
   "source": [
    "#!/usr/bin/env python\n",
    "# import analyzer\n",
    "import importlib\n",
    "from importlib import reload\n",
    "import os, sys, glob, warnings, glob\n",
    "import numpy as np\n",
    "import scipy as sp\n",
    "import joblib\n",
    "# from tqdm.notebook import tqdm\n",
    "from tqdm import tqdm\n",
    "import ROOT as root\n",
    "from pylab import *\n",
    "\n",
    "import iminuit\n",
    "from iminuit import Minuit, cost\n",
    "\n",
    "import matplotlib.pyplot as plt\n",
    "from matplotlib import collections, colors, transforms\n",
    "%matplotlib inline\n",
    "%config InlineBackend.figure_format='retina'\n",
    "# %matplotlib widget"
   ]
  },
  {
   "cell_type": "code",
   "execution_count": 2,
   "metadata": {},
   "outputs": [
    {
     "data": {
      "text/plain": [
       "<module 'Kalman_tom' from '/project/6035200/tomren/jupyter/tracker_analysis/Kalman_tom.py'>"
      ]
     },
     "execution_count": 2,
     "metadata": {},
     "output_type": "execute_result"
    },
    {
     "name": "stdout",
     "output_type": "stream",
     "text": [
      "\n",
      "\u001b[1mRooFit v3.60 -- Developed by Wouter Verkerke and David Kirkby\u001b[0m \n",
      "                Copyright (C) 2000-2013 NIKHEF, University of California & Stanford University\n",
      "                All rights reserved, please read http://roofit.sourceforge.net/license.txt\n",
      "\n"
     ]
    }
   ],
   "source": [
    "# modules in this directory\n",
    "import visualization, util, event, cutflow, detector, Kalman_tom\n",
    "import visualization as vis\n",
    "import cutflow,detector\n",
    "importlib.reload(event)\n",
    "importlib.reload(visualization)\n",
    "importlib.reload(util)\n",
    "importlib.reload(Kalman_tom)"
   ]
  },
  {
   "cell_type": "markdown",
   "metadata": {},
   "source": [
    "# Fit methods comparison\n",
    "\n",
    "1. LS fit, with (x0,t0,z0,vx,vy,vz) as parameters\n",
    "2. Kalman filter, with (vx,vy,vz) as parameters, Q=0\n",
    "3. Kalman filter, with (x0,t0,z0,vx,vy,vz) as parameters, Q=0\n",
    "4. Kalman filter, with (vx,vy,vz) as parameters, Q from multiple scattering (**Current MATHUSLA implementation**)\n",
    "5. Kalman filter, with (x0,t0,z0,vx,vy,vz) as parameters, Q from multiple scattering\n",
    "\n",
    "1 and 4 should be equal mathmatically"
   ]
  },
  {
   "cell_type": "code",
   "execution_count": 3,
   "metadata": {},
   "outputs": [],
   "source": [
    "# Tree=ev.Tree\n",
    "# barnches = Tree.GetListOfBranches()\n",
    "# nevents = int(Tree.GetEntries())\n",
    "# branch_list = [barnches[i].GetName() for i in range(len(barnches))]\n",
    "# print(branch_list)"
   ]
  },
  {
   "cell_type": "code",
   "execution_count": 4,
   "metadata": {},
   "outputs": [],
   "source": [
    "# Data preparation:\n",
    "# get all tracks that have 7 hits (one hit per layer)\n",
    "cut=cutflow.sample_space(\"\")\n",
    "\n",
    "def get_digi_hits(ev):\n",
    "    ev.Tree.GetEntry(ev.EventNumber)\n",
    "    hits=[]\n",
    "    for ii in range(len(ev.Tree.Digi_y)):\n",
    "        hit=Hit(ev.Tree.Digi_x[ii], ev.Tree.Digi_y[ii], ev.Tree.Digi_z[ii], ev.Tree.Digi_time[ii])\n",
    "        hit.get_uncertainty()\n",
    "        hits.append(hit)\n",
    "    return hits\n",
    "\n",
    "def get_event_truth(ev):\n",
    "    ev.Tree.GetEntry(ev.EventNumber)\n",
    "    dx=ev.Tree.Hit_x[1]-ev.Tree.Hit_x[0]\n",
    "    dy=ev.Tree.Hit_y[1]-ev.Tree.Hit_y[0]\n",
    "    dz=ev.Tree.Hit_z[1]-ev.Tree.Hit_z[0]\n",
    "    dt=ev.Tree.Hit_time[1]-ev.Tree.Hit_time[0]\n",
    "    truth=[ev.Tree.Hit_x[0], ev.Tree.Hit_y[0], ev.Tree.Hit_z[0], ev.Tree.Hit_time[0],dx/dt, dy/dt, dz/dt]\n",
    "    return truth\n",
    "\n",
    "class Hit:\n",
    "    def __init__(self, x, y, z, t):\n",
    "        self.x=x\n",
    "        self.y=y\n",
    "        self.z=z\n",
    "        self.t=t\n",
    "        self.t_uncertainty=1\n",
    "    def get_uncertainty(self):\n",
    "        # Get the layer-dependent uncertainty of each hit\n",
    "        self.hit_layer=cut.in_layer(self.y)\n",
    "        hit_uncertainty = np.array(detector.Layer().uncertainty(self.hit_layer))\n",
    "        self.x_uncertainty=hit_uncertainty[0]*100 # m->cm\n",
    "        self.y_uncertainty=hit_uncertainty[1]*100 # m->cm\n",
    "        self.z_uncertainty=hit_uncertainty[2]*100 # m->cm\n",
    "#         self.y_uncertainty=2/np.sqrt(12)\n"
   ]
  },
  {
   "cell_type": "code",
   "execution_count": 6,
   "metadata": {},
   "outputs": [
    {
     "name": "stdout",
     "output_type": "stream",
     "text": [
      "Processing energy  1000 GeV\n"
     ]
    },
    {
     "name": "stderr",
     "output_type": "stream",
     "text": [
      "100%|██████████| 1/1 [00:00<00:00,  3.05it/s]\n"
     ]
    }
   ],
   "source": [
    "# Pull hits from simulation\n",
    "\n",
    "muon_energy=1000\n",
    "print(\"Processing energy \",muon_energy, \"GeV\")\n",
    "\n",
    "data_dir    = \"/project/def-mdiamond/tomren/mathusla/data/fit_study\"\n",
    "files=glob.glob(f\"{data_dir}/muon_{muon_energy}_GeV_manual/*/*/stat0.root\",)\n",
    "files=util.Utils.sortByExt(files)\n",
    "\n",
    "Hit_collection = []\n",
    "Truth_collection = []\n",
    "hit_inds=[]\n",
    "for i_file in tqdm(range(len(files))):\n",
    "# for i_file in tqdm(range(10)):\n",
    "    filename=files[i_file]\n",
    "    tree_name=\"integral_tree\"\n",
    "    ev = event.Event(filename, 0, tree_name=tree_name)\n",
    "    nevents = int(ev.Tree.GetEntries())\n",
    "\n",
    "    for i_event in range(nevents):\n",
    "        ev.EventNumber=i_event\n",
    "        ev.Tree.GetEntry(i_event)\n",
    "        if len(ev.Tree.Digi_x)==7:\n",
    "            hit_inds.append(i_event)\n",
    "            hits = get_digi_hits(ev)\n",
    "            truth =  get_event_truth(ev)\n",
    "            \n",
    "            Hit_collection.append(hits)\n",
    "            Truth_collection.append(truth)"
   ]
  },
  {
   "cell_type": "markdown",
   "metadata": {},
   "source": [
    "## 1. Define LS fit"
   ]
  },
  {
   "cell_type": "code",
   "execution_count": 8,
   "metadata": {},
   "outputs": [],
   "source": [
    "# -------------------------------------\n",
    "# LS fit\n",
    "# ------------------------------------\n",
    "class chi2_track:\n",
    "    def __init__(self, hits):\n",
    "        self.hits=hits\n",
    "        self.func_code = iminuit.util.make_func_code(['x0', 'y0', 'z0', 't0', 'vx', 'vy', 'vz'])\n",
    "    def __call__(self, x0, y0, z0, t0, vx, vy, vz):\n",
    "        error=0\n",
    "        for hit in self.hits:\n",
    "            model_t = (hit.y - y0)/vy\n",
    "            model_x = x0 + model_t*vx\n",
    "            model_z = z0 + model_t*vz\n",
    "            error+= np.sum(np.power([(model_t- (hit.t-t0))/hit.t_uncertainty, \n",
    "                                     (model_x-hit.x)/hit.x_uncertainty, \n",
    "                                     (model_z-hit.z)/hit.z_uncertainty],2))\n",
    "        return error        \n",
    "\n",
    "def guess_track(hits):\n",
    "    # Guess initial value\n",
    "    x0_init = hits[0].x\n",
    "    y0_init = hits[0].y\n",
    "    z0_init = hits[0].z\n",
    "    t0_init = hits[0].t\n",
    "    dt=hits[1].t-hits[0].t\n",
    "    vx_init = (hits[1].x-hits[0].x)/dt\n",
    "    vy_init = (hits[1].y-hits[0].y)/dt\n",
    "    vz_init = (hits[1].z-hits[0].z)/dt\n",
    "    v_mod = np.sqrt(vx_init**2+vy_init**2+vz_init**2)\n",
    "    if v_mod>sp.constants.c*1e-7:\n",
    "        vx_init = vx_init*0.99*sp.constants.c*1e-7/v_mod\n",
    "        vy_init = vy_init*0.99*sp.constants.c*1e-7/v_mod\n",
    "        vz_init = vz_init*0.99*sp.constants.c*1e-7/v_mod\n",
    "    return  (x0_init,y0_init, z0_init,t0_init,vx_init,vy_init,vz_init)\n",
    "    \n",
    "def fit_track(hits, guess):\n",
    "    x0_init,y0_init, z0_init,t0_init,vx_init,vy_init,vz_init = guess\n",
    "    det=detector.Detector()\n",
    "\n",
    "    m = Minuit(chi2_track(hits),x0=x0_init, y0=y0_init, z0=z0_init, t0=t0_init, vx=vx_init, vy=vy_init, vz=vz_init)\n",
    "    m.fixed[\"y0\"]=True\n",
    "    m.limits[\"x0\"]=(det.BoxLimits[0][0],det.BoxLimits[0][1])\n",
    "    m.limits[\"z0\"]=(det.BoxLimits[2][0],det.BoxLimits[2][1])\n",
    "    m.limits[\"t0\"]=(0,1e5)\n",
    "    m.limits[\"vx\"]=(-sp.constants.c*1e-7, sp.constants.c*1e-7) # Other\n",
    "    m.limits[\"vy\"]=(-sp.constants.c*1e-7*2,0) if vy_init<0 else (0,sp.constants.c*1e-7*2) # Constrain the direction in Z(up) in real world\n",
    "    m.limits[\"vz\"]=(-sp.constants.c*1e-7, sp.constants.c*1e-7) # Beam direction; From MKS unit to cm/ns = 1e2/1e9=1e-7\n",
    "    m.errors[\"x0\"]=0.1\n",
    "    m.errors[\"y0\"]=0.1\n",
    "    m.errors[\"z0\"]=0.1\n",
    "    m.errors[\"t0\"]=0.3\n",
    "    m.errors[\"vx\"] = 0.01\n",
    "    m.errors[\"vy\"] = 0.1\n",
    "    m.errors[\"vz\"] = 0.01\n",
    "\n",
    "    m.migrad()  # run optimiser\n",
    "    m.hesse()   # run covariance estimator\n",
    "    \n",
    "    return m"
   ]
  },
  {
   "cell_type": "markdown",
   "metadata": {},
   "source": [
    "## Define Kalman filter, 3 parameters, Q=3"
   ]
  },
  {
   "cell_type": "code",
   "execution_count": 16,
   "metadata": {},
   "outputs": [],
   "source": [
    "# ----------------------------------------------------------------------\n",
    "def Seed(hits):\n",
    "#     c=sp.constants.c/1e7\n",
    "    c=29.97\n",
    "    seeds=[]\n",
    "    for i in range(len(hits)):\n",
    "        for j in range(i+1, len(hits)):\n",
    "            dx = hits[i].x- hits[j].x\n",
    "            dy = hits[i].y- hits[j].y\n",
    "            dz = hits[i].z- hits[j].z\n",
    "            dt = hits[i].t- hits[j].t\n",
    "            ds = np.abs((dx**2+dy**2-dz**2)/c**2-dt**2)\n",
    "#             print(i,j, ds)\n",
    "#             print(hits[i].x, hits[i].z,hits[j].x, hits[j].z)\n",
    "            if ds>5:\n",
    "                continue\n",
    "                \n",
    "#             seeds.append([hits[i],hits[j]])\n",
    "            seeds.append([i,j,ds])\n",
    "    return np.array(seeds)\n",
    "\n",
    "def init_state(hits):\n",
    "    score = Seed(hits)\n",
    "    ind=np.argmin(score[:,2])\n",
    "#     ind=0\n",
    "    i=int(score[ind][0])\n",
    "    j=int(score[ind][1])\n",
    "#     print(i,j)\n",
    "    i=0\n",
    "    j=1\n",
    "    \n",
    "    dt=hits[j].t-hits[i].t\n",
    "    dx=hits[j].x-hits[i].x\n",
    "    dy=hits[j].y-hits[i].y\n",
    "    dz=hits[j].z-hits[i].z\n",
    "    \n",
    "#     print(dx,dy,dz,dt)\n",
    "    \n",
    "    # Initial State Vector: X0\n",
    "    X0 = np.array([hits[0].x, hits[0].t, hits[0].z, dx/dt, dy/dt, dz/dt])\n",
    "#     X0 = np.array([hits[1].x, hits[1].t, hits[1].z, dx/dt, dy/dt, dz/dt])\n",
    "    \n",
    "    # Initial Variance P0\n",
    "    J =np.array([[ 1      , 0           , 0       , 0       , 0       , 0             , 0     , 0     ],\n",
    "        [ 0       , 1           , 0       , 0       , 0       , 0             , 0     , 0     ],\n",
    "        [ 0       , 0           , 1       , 0       , 0       , 0             , 0     , 0     ],\n",
    "        [- 1 / dt, dx / (dt*dt), 0       , 0       , 1 / dt  , - dx / (dt*dt), 0     , 0     ],\n",
    "        [0       , dy / (dt*dt), 0       , - 1 / dt, 0       , - dy / (dt*dt), 0     , 1 / dt],\n",
    "        [0       , dz / (dt*dt), - 1 / dt, 0       , 0       , - dz / (dt*dt), 1 / dt, 0     ]])\n",
    "#     # Initial Variance P0\n",
    "#     J =np.array([[ 0      , 0           , 0       , 0       , 1       , 0             , 0     , 0     ],\n",
    "#                 [ 0       , 0           , 0       , 0       , 0       , 1             , 0     , 0     ],\n",
    "#                 [ 0       , 0           , 0       , 0       , 0       , 0             , 1     , 0     ],\n",
    "#                 [- 1 / dt, dx / (dt*dt), 0       , 0       , 1 / dt  , - dx / (dt*dt), 0     , 0     ],\n",
    "#                 [0       , dy / (dt*dt), 0       , - 1 / dt, 0       , - dy / (dt*dt), 0     , 1 / dt],\n",
    "#                 [0       , dz / (dt*dt), - 1 / dt, 0       , 0       , - dz / (dt*dt), 1 / dt, 0     ]])\n",
    "    err0=np.diag([hits[i].x_uncertainty,hits[i].t_uncertainty,hits[i].z_uncertainty,hits[i].y_uncertainty,\n",
    "                 hits[j].x_uncertainty,hits[j].t_uncertainty,hits[j].z_uncertainty,hits[j].y_uncertainty])**2\n",
    "    P0=J.dot(err0).dot(J.T)\n",
    "    \n",
    "#     P0=np.diag(np.ones(6)*1e10)\n",
    "    \n",
    "    return X0, P0\n",
    "\n",
    "def init_state_LS(hits,x0,x0_cov):\n",
    "    # Initial State Vector: X0\n",
    "    X0 = np.array([x0[0], x0[2], x0[2], x0[3], x0[4], x0[5]])\n",
    "    P0=x0_cov\n",
    "    \n",
    "    return X0, P0\n",
    "\n",
    "def add_measurement(hit, X_current, dy):\n",
    "    vy_current = X_current[4]\n",
    "    dt_next = dy/vy_current\n",
    "    Y = np.array([hit.x,hit.t,hit.z])\n",
    "    R = np.diag([hit.x_uncertainty,hit.t_uncertainty,hit.z_uncertainty])**2\n",
    "    A = np.array([[1, 0, 0, dt_next, 0, 0],\n",
    "                  [0, 1, 0, 0, dt_next/vy_current, 0],\n",
    "                  [0, 0, 1, 0, 0, dt_next],\n",
    "                  [0, 0, 0, 1, 0, 0],\n",
    "                  [0, 0, 0, 0, 1, 0],\n",
    "                  [0, 0, 0, 0, 0, 1]])\n",
    "    return  Y,R,A\n",
    "\n",
    "\n",
    "def fit_kf_1(hits, init_truth=None):\n",
    "    # Initial state (X0), covariance (P0), measurement (X0)\n",
    "    if init_truth is None:\n",
    "        X0,P0 = init_state(hits)\n",
    "    else:\n",
    "        X0,P0 = init_state_LS(hits,*init_truth)\n",
    "        \n",
    "    print(X0,P0)\n",
    "        \n",
    "    M0=X0[:3]\n",
    "    # Initial Measurement Matrix: M = HX + z, project from state vector to measurement\n",
    "    H = np.array(\\\n",
    "        [[1,0,0,0,0,0],\n",
    "         [0,1,0,0,0,0],\n",
    "         [0,0,1,0,0,0]])\n",
    "    # Initial propogation covariacne (Q)\n",
    "    Q=0\n",
    "\n",
    "    # Kalman Filter Object\n",
    "    kf = Kalman_tom.KalmanFilter(X0,P0,M0,H=H)\n",
    "\n",
    "    # Filter forward\n",
    "    for i in range(1,7):\n",
    "        hit = hits[i]\n",
    "        dy = hits[i].y-hits[i-1].y\n",
    "\n",
    "        X_previous = kf.X_filtered[-1]\n",
    "        M_current,R,A = add_measurement(hit, X_previous, dy)\n",
    "        kf.predict_foward(A,Q)\n",
    "        kf.filter_forward(M_current,R)\n",
    "        \n",
    "\n",
    "    # Filter backward\n",
    "    X_smoothed, p = kf.filter_backward()\n",
    "    \n",
    "    return kf"
   ]
  },
  {
   "cell_type": "code",
   "execution_count": 26,
   "metadata": {},
   "outputs": [
    {
     "data": {
      "text/plain": [
       "<module 'Kalman_tom' from '/project/6035200/tomren/jupyter/tracker_analysis/Kalman_tom.py'>"
      ]
     },
     "execution_count": 26,
     "metadata": {},
     "output_type": "execute_result"
    }
   ],
   "source": [
    "reload(Kalman_tom)"
   ]
  },
  {
   "cell_type": "code",
   "execution_count": 20,
   "metadata": {},
   "outputs": [],
   "source": [
    "def fit_kf_1(hits, init_truth=None):\n",
    "    # Initial state (X0), covariance (P0), measurement (X0)\n",
    "    if init_truth is None:\n",
    "        X0,P0 = init_state(hits)\n",
    "    else:\n",
    "#         X0,P0 = init_state_LS(hits,*init_truth)\n",
    "        X0,P0=init_truth\n",
    "        \n",
    "    print(X0,P0)\n",
    "        \n",
    "    M0=X0[:3]\n",
    "    # Initial Measurement Matrix: M = HX + z, project from state vector to measurement\n",
    "    H = np.array(\\\n",
    "        [[1,0,0,0,0,0],\n",
    "         [0,1,0,0,0,0],\n",
    "         [0,0,1,0,0,0]])\n",
    "    # Initial propogation covariacne (Q)\n",
    "    Q=0\n",
    "\n",
    "    # Kalman Filter Object\n",
    "    kf = Kalman_tom.KalmanFilter(X0,P0,M0,H=H)\n",
    "\n",
    "    # Filter forward\n",
    "    for i in range(1,7):\n",
    "        hit = hits[i]\n",
    "        dy = hits[i].y-hits[i-1].y\n",
    "\n",
    "        X_previous = kf.X_filtered[-1]\n",
    "        M_current,R,A = add_measurement(hit, X_previous, dy)\n",
    "        kf.predict_foward(A,Q)\n",
    "        kf.filter_forward(M_current,R)\n",
    "        print(\"X0_f:\",kf.X_filtered[-1])\n",
    "        print(\"Pf:\",kf.P_filtered[-1])\n",
    "\n",
    "    # Filter backward\n",
    "    X_smoothed, p = kf.filter_backward()\n",
    "    \n",
    "    return kf"
   ]
  },
  {
   "cell_type": "code",
   "execution_count": 21,
   "metadata": {},
   "outputs": [],
   "source": [
    "X0 = np.array([430.391,7.98118, 12488.2,-2.62189, 29.3818, 5.96784,])\n",
    "P0=np.array([[1.6875,          0,          0, -0.0702292,          0,          0,],\n",
    "[         0,          1,          0,  -0.109116,    1.22279,   0.248365],\n",
    "[         0,          0,      199.6,          0,          0,   -8.30682],\n",
    "[-0.0702292,  -0.109116,          0,  0.0296581,  -0.266852, -0.0542013],\n",
    "[         0,    1.22279,          0,  -0.266852,    2.99159,   0.607398],\n",
    "[         0,   0.248365,   -8.30682, -0.0542013,   0.607398,   0.814786]])"
   ]
  },
  {
   "cell_type": "code",
   "execution_count": 22,
   "metadata": {},
   "outputs": [
    {
     "name": "stdout",
     "output_type": "stream",
     "text": [
      "[ 4.30391e+02  7.98118e+00  1.24882e+04 -2.62189e+00  2.93818e+01\n",
      "  5.96784e+00] [[ 1.68750e+00  0.00000e+00  0.00000e+00 -7.02292e-02  0.00000e+00\n",
      "   0.00000e+00]\n",
      " [ 0.00000e+00  1.00000e+00  0.00000e+00 -1.09116e-01  1.22279e+00\n",
      "   2.48365e-01]\n",
      " [ 0.00000e+00  0.00000e+00  1.99600e+02  0.00000e+00  0.00000e+00\n",
      "  -8.30682e+00]\n",
      " [-7.02292e-02 -1.09116e-01  0.00000e+00  2.96581e-02 -2.66852e-01\n",
      "  -5.42013e-02]\n",
      " [ 0.00000e+00  1.22279e+00  0.00000e+00 -2.66852e-01  2.99159e+00\n",
      "   6.07398e-01]\n",
      " [ 0.00000e+00  2.48365e-01 -8.30682e+00 -5.42013e-02  6.07398e-01\n",
      "   8.14786e-01]]\n",
      "X0_f: [ 4.23357504e+02  1.09894425e+01  1.24951773e+04 -2.58929132e+00\n",
      "  2.82262882e+01  6.24821926e+00]\n",
      "Pf: [[ 7.81170628e-01 -1.13370827e-01 -1.30969478e-01  2.01617701e-03\n",
      "  -3.21934977e-01 -6.92504456e-02]\n",
      " [-1.13370827e-01  5.56775416e-01  2.58118130e-01 -5.99621801e-02\n",
      "   6.34571379e-01  1.36480619e-01]\n",
      " [-1.30969478e-01  2.58118130e-01  8.59148090e+01 -6.92701609e-02\n",
      "   7.32970615e-01 -3.20344033e+00]\n",
      " [ 2.01617701e-03 -5.99621801e-02 -6.92701609e-02  2.10999575e-02\n",
      "  -1.70272402e-01 -3.66267743e-02]\n",
      " [-3.21934977e-01  6.34571379e-01  7.32970615e-01 -1.70272402e-01\n",
      "   1.80286564e+00  3.87560082e-01]\n",
      " [-6.92504456e-02  1.36480619e-01 -3.20344033e+00 -3.66267743e-02\n",
      "   3.87560082e-01  6.75777840e-01]]\n",
      "X0_f: [ 3.88518951e+02  2.40510337e+01  1.25782712e+04 -2.49151470e+00\n",
      "  2.72268152e+01  5.97096855e+00]\n",
      "Pf: [[ 2.76423712 -0.78724459 -0.06503769  0.15812679 -1.23407774 -0.07398182]\n",
      " [-0.78724459  0.58464631  0.0276286  -0.04940011  0.52474946  0.03142814]\n",
      " [-0.06503769  0.0276286   1.6638826  -0.00408116  0.04331046  0.0788933 ]\n",
      " [ 0.15812679 -0.04940011 -0.00408116  0.0122965  -0.07743918 -0.00464241]\n",
      " [-1.23407774  0.52474946  0.04331046 -0.07743918  0.82296393  0.0492666 ]\n",
      " [-0.07398182  0.03142814  0.0788933  -0.00464241  0.0492666   0.3706065 ]]\n",
      "X0_f: [ 3.80379258e+02  2.73275667e+01  1.26014330e+04 -2.42743672e+00\n",
      "  2.66882115e+01  6.08030073e+00]\n",
      "Pf: [[ 1.11999024e+00 -2.28399430e-01 -9.90255469e-02  5.50712775e-02\n",
      "  -3.67461213e-01 -2.13106079e-02]\n",
      " [-2.28399430e-01  3.35407646e-01  5.86024946e-02 -1.22772298e-02\n",
      "   2.17990596e-01  1.26114404e-02]\n",
      " [-9.90255469e-02  5.86024946e-02  7.25440809e+00 -5.32295283e-03\n",
      "   9.42832840e-02  1.41950577e+00]\n",
      " [ 5.50712775e-02 -1.22772298e-02 -5.32295283e-03  4.87877228e-03\n",
      "  -1.97522636e-02 -1.14551612e-03]\n",
      " [-3.67461213e-01  2.17990596e-01  9.42832840e-02 -1.97522636e-02\n",
      "   3.51019783e-01  2.02900581e-02]\n",
      " [-2.13106079e-02  1.26114404e-02  1.41950577e+00 -1.14551612e-03\n",
      "   2.02900581e-02  3.58442382e-01]]\n",
      "X0_f: [ 3.71222827e+02  3.07374815e+01  1.26149546e+04 -2.41829614e+00\n",
      "  2.63894212e+01  4.89688468e+00]\n",
      "Pf: [[ 1.52245740e+00 -2.39281422e-01 -1.24078444e-02  6.96441577e-02\n",
      "  -3.74734269e-01 -1.20672824e-03]\n",
      " [-2.39281422e-01  2.88019315e-01  6.27757133e-03 -1.06500488e-02\n",
      "   1.90172305e-01  6.10526887e-04]\n",
      " [-1.24078444e-02  6.27757133e-03  1.57461005e+00 -5.52254109e-04\n",
      "   9.83123554e-03  1.87406629e-01]\n",
      " [ 6.96441577e-02 -1.06500488e-02 -5.52254109e-04  4.68864056e-03\n",
      "  -1.66788471e-02 -5.37096218e-05]\n",
      " [-3.74734269e-01  1.90172305e-01  9.83123554e-03 -1.66788471e-02\n",
      "   2.98072696e-01  9.56139456e-04]\n",
      " [-1.20672824e-03  6.10526887e-04  1.87406629e-01 -5.37096218e-05\n",
      "   9.56139456e-04  4.71576213e-02]]\n",
      "X0_f: [ 3.62244445e+02  3.47200574e+01  1.26338275e+04 -2.39877335e+00\n",
      "  2.63795315e+01  4.87316104e+00]\n",
      "Pf: [[ 9.25373185e-01 -1.15650214e-01 -7.69563207e-03  3.82013410e-02\n",
      "  -1.71549612e-01 -5.38396674e-04]\n",
      " [-1.15650214e-01  2.42144790e-01  6.58295184e-03 -3.91356163e-03\n",
      "   1.47390066e-01  4.60552083e-04]\n",
      " [-7.69563207e-03  6.58295184e-03  3.68644828e+00 -2.60417420e-04\n",
      "   9.76486421e-03  3.64598704e-01]\n",
      " [ 3.82013410e-02 -3.91356163e-03 -2.60417420e-04  2.64643766e-03\n",
      "  -5.80517714e-03 -1.82191497e-05]\n",
      " [-1.71549612e-01  1.47390066e-01  9.76486421e-03 -5.80517714e-03\n",
      "   2.18831692e-01  6.83162912e-04]\n",
      " [-5.38396674e-04  4.60552083e-04  3.64598704e-01 -1.82191497e-05\n",
      "   6.83162912e-04  4.64787041e-02]]\n",
      "X0_f: [ 3.52780194e+02  3.85835671e+01  1.26543917e+04 -2.40279929e+00\n",
      "  2.63651368e+01  4.98905169e+00]\n",
      "Pf: [[ 1.23656593e+00 -1.22951666e-01 -1.84572287e-03  4.76467856e-02\n",
      "  -1.70895826e-01  6.05758516e-05]\n",
      " [-1.22951666e-01  2.25065755e-01  1.49556277e-03 -3.66844151e-03\n",
      "   1.39187285e-01 -4.90837439e-05]\n",
      " [-1.84572287e-03  1.49556277e-03  1.36860059e+00 -5.50698224e-05\n",
      "   2.07875714e-03  1.03195339e-01]\n",
      " [ 4.76467856e-02 -3.66844151e-03 -5.50698224e-05  2.61733949e-03\n",
      "  -5.09892516e-03  1.80736851e-06]\n",
      " [-1.70895826e-01  1.39187285e-01  2.07875714e-03 -5.09892516e-03\n",
      "   1.93627070e-01 -6.82239386e-05]\n",
      " [ 6.05758516e-05 -4.90837439e-05  1.03195339e-01  1.80736851e-06\n",
      "  -6.82239386e-05  1.30846116e-02]]\n"
     ]
    },
    {
     "name": "stderr",
     "output_type": "stream",
     "text": [
      "/tmp/ipykernel_26261/4096381640.py:56: IMinuitWarning: errordef not set, using 1 (appropriate for least-squares)\n",
      "  m.migrad()  # run optimiser\n"
     ]
    },
    {
     "data": {
      "text/plain": [
       "<matplotlib.legend.Legend at 0x2b992be790d0>"
      ]
     },
     "execution_count": 22,
     "metadata": {},
     "output_type": "execute_result"
    },
    {
     "data": {
      "image/png": "[encoded data removed]",
      "text/plain": [
       "<Figure size 432x288 with 1 Axes>"
      ]
     },
     "metadata": {
      "image/png": {
       "height": 261,
       "width": 410
      },
      "needs_background": "light"
     },
     "output_type": "display_data"
    }
   ],
   "source": [
    "# # Turth\n",
    "# dt=hits_truth[1][3]-hits_truth[0][3]\n",
    "# dx=hits_truth[1][0]-hits_truth[0][0]\n",
    "# dy=hits_truth[1][1]-hits_truth[0][1]\n",
    "# dz=hits_truth[1][2]-hits_truth[0][2]\n",
    "# X0_truth = np.array([hits_truth[0][0], hits_truth[0][3], hits_truth[0][2], dx/dt, dy/dt, dz/dt])\n",
    "# # Xlast_truth = np.array([hits_truth[-1][0], hits_truth[-1][3], hits_truth[-1][2], dx/dt, dy/dt, dz/dt])\n",
    "# # print(Xlast_truth)\n",
    "# # print(kf.X_filtered[-1])\n",
    "\n",
    "\n",
    "# Get one event\n",
    "ievent=0\n",
    "# ievent+=1\n",
    "hits=Hit_collection[ievent]\n",
    "truth=Truth_collection[ievent]\n",
    "\n",
    "# Run fits\n",
    "# 1. LS\n",
    "guess=guess_track(hits)\n",
    "fit1=fit_track(hits,guess)\n",
    "#print(fit1)\n",
    "# 2. Kalman, 3 par, Q=0\n",
    "values=list(fit1.values)\n",
    "del values[1]\n",
    "a=np.array(fit1.covariance.tolist())\n",
    "a=np.delete(a,1,0)\n",
    "a=np.delete(a,1,1)\n",
    "errors=a\n",
    "init_truth = [values,errors]\n",
    "# kf1=fit_kf_1(hits,init_truth=init_truth)  \n",
    "kf1=fit_kf_1(hits,init_truth=(X0,P0))  \n",
    "# print(kf1.X_smoothed[0])\n",
    "\n",
    "\n",
    "# Plot digitized and Kalman\n",
    "for i in range(7):\n",
    "    scatter(hits[i].x, hits[i].z,color=\"g\",s=20)    \n",
    "#     scatter(kf2.X_filtered[i][0], kf2.X_filtered[i][2],color=\"C0\",s=14)\n",
    "    scatter(kf1.X_smoothed[i][0], kf1.X_smoothed[i][2],color=\"C1\",s=14)\n",
    "#     scatter(kf2.X_smoothed[i][0], kf2.X_smoothed[i][2],color=\"C3\",s=14)    \n",
    "scatter(hits[i].x, hits[i].z,color=\"g\",s=20,label=\"Digi\")    \n",
    "# scatter(kf1.X_filtered[i][0], kf1.X_filtered[i][2],color=\"C0\",s=14,label=\"Kalman, predict \")    \n",
    "scatter(kf1.X_smoothed[i][0], kf1.X_smoothed[i][2],color=\"C1\",s=14,label=\"Kalman\")    \n",
    "# scatter(kf2.X_smoothed[i][0], kf2.X_smoothed[i][2],color=\"C3\",s=14,label=\"Kalman, v_init=LS\")    \n",
    "\n",
    "\n",
    "# Plot LS\n",
    "fit1_res = list(fit1.values)\n",
    "tlist = np.linspace(0,1000/25,10)\n",
    "x_plot = fit1_res[0]+fit1_res[4]*tlist\n",
    "z_plot = fit1_res[2]+fit1_res[6]*tlist\n",
    "plot(x_plot,z_plot,label=\"LS\")\n",
    "\n",
    "# Plot Truth\n",
    "# hits_truth=np.array(hits_truth)\n",
    "# scatter(hits_truth[:,0],hits_truth[:,2],s=10,color=\"k\",label=\"Truth\")\n",
    "\n",
    "# x_plot = truth[0]+truth[4]*tlist\n",
    "# z_plot = truth[2]+truth[6]*tlist\n",
    "# plot(x_plot,z_plot,label=\"Truth\",color=\"r\",linestyle=\":\")\n",
    "# scatter(truth[0],truth[2],marker=\"*\",color=\"r\")\n",
    "\n",
    "\n",
    "xlabel(\"X [cm]\")\n",
    "ylabel(\"Z [cm]\")\n",
    "legend()"
   ]
  },
  {
   "cell_type": "code",
   "execution_count": 28,
   "metadata": {},
   "outputs": [
    {
     "name": "stdout",
     "output_type": "stream",
     "text": [
      "14.13235200002555\n",
      "1.299038105676658\n",
      "14.13235200002555\n",
      "1.299038105676658\n",
      "14.13235200002555\n",
      "1.299038105676658\n",
      "14.13235200002555\n"
     ]
    }
   ],
   "source": [
    "for hit in hits:\n",
    "    print(hit.x_uncertainty)"
   ]
  },
  {
   "cell_type": "code",
   "execution_count": 59,
   "metadata": {},
   "outputs": [
    {
     "data": {
      "text/plain": [
       "[450.02096990489343,\n",
       " 12400.969034317814,\n",
       " 0.7860859316449319,\n",
       " 2.0261293637920255,\n",
       " 29.72549518051154,\n",
       " 3.028328063284403]"
      ]
     },
     "execution_count": 59,
     "metadata": {},
     "output_type": "execute_result"
    }
   ],
   "source": [
    "values"
   ]
  },
  {
   "cell_type": "code",
   "execution_count": 174,
   "metadata": {},
   "outputs": [
    {
     "name": "stdout",
     "output_type": "stream",
     "text": [
      "430.39116376986135 7.981182692852532 8551.5 4.918235023094326 999991.1385367073 13 1\n",
      "425.75 11.215559478644328 8654.5 3.202745982916346 999983.994739069 13 1\n",
      "404.43477065083897 23.59083853010006 9051.5 7.575749089679223 999970.8070138452 13 1\n",
      "380.75 26.975060088343028 9154.5 3.3948903588160597 999960.719051912 13 1\n",
      "339.80371415058465 29.63413706773283 9257.5 4.212334862383561 999952.4804774097 13 1\n",
      "362.75 35.24402654869914 9360.5 3.6519575939633504 999943.8299937556 13 1\n",
      "332.48587738552453 38.37904489108086 9463.5 3.5139167328937297 999935.115808346 13 1\n"
     ]
    }
   ],
   "source": [
    "filename='/project/def-mdiamond/tomren/mathusla/data/fit_study/muon_1000_GeV_manual/20230129/192716/stat0.root'\n",
    "tfile = root.TFile.Open(filename)\n",
    "tree_name = [\"integral_tree\",\"box_run\"][0]\n",
    "Tree = tfile.Get(tree_name)\n",
    "\n",
    "\n",
    "Tree.GetEntry(0);\n",
    "\n",
    "# print(Tree.Digi_numHits[:10]),len(Tree.Digi_energy)\n",
    "\n",
    "# for i in range(int(Tree.NumHits)):\n",
    "#     print(Tree.Hit_x[i], Tree.Hit_y[i], Tree.Hit_z[i], Tree.Hit_energy[i], Tree.Hit_time[i])\n",
    "\n",
    "for i in range(len(Tree.Digi_numHits)):\n",
    "    print(Tree.Digi_x[i], Tree.Digi_time[i], Tree.Digi_y[i],Tree.Digi_energy[i], Tree.Digi_particle_energy[i], Tree.Digi_pdg_id[i], Tree.Digi_seed)"
   ]
  },
  {
   "cell_type": "code",
   "execution_count": null,
   "metadata": {},
   "outputs": [],
   "source": []
  }
 ],
 "metadata": {
  "kernelspec": {
   "display_name": "Singularity V04-07",
   "language": "python",
   "name": "cdms_v04-07"
  },
  "language_info": {
   "codemirror_mode": {
    "name": "ipython",
    "version": 3
   },
   "file_extension": ".py",
   "mimetype": "text/x-python",
   "name": "python",
   "nbconvert_exporter": "python",
   "pygments_lexer": "ipython3",
   "version": "3.8.10"
  }
 },
 "nbformat": 4,
 "nbformat_minor": 4
}
