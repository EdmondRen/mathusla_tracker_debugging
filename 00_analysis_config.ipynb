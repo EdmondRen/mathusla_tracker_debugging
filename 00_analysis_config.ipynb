{
 "cells": [
  {
   "cell_type": "code",
   "execution_count": null,
   "id": "5b137e6d-a00d-49d8-ad70-4532d3cbc0c1",
   "metadata": {},
   "outputs": [],
   "source": [
    "#!/usr/bin/env python\n",
    "# import analyzer\n",
    "import importlib\n",
    "from importlib import reload\n",
    "import os, sys, glob, warnings, glob\n",
    "import scipy\n",
    "import numpy as np\n",
    "import scipy as sp\n",
    "import joblib\n",
    "# from tqdm.notebook import tqdm\n",
    "from tqdm import tqdm\n",
    "import ROOT as root\n",
    "\n",
    "import matplotlib.pyplot as plt\n",
    "from matplotlib import collections, colors, transforms\n",
    "\n",
    "from pylab import *\n",
    "%matplotlib inline\n",
    "%config InlineBackend.figure_format='retina'\n",
    "# %matplotlib widget"
   ]
  },
  {
   "cell_type": "code",
   "execution_count": null,
   "id": "06486e7f-84ec-48b0-b2a9-68cffa7fcb23",
   "metadata": {},
   "outputs": [],
   "source": [
    "import pprint\n",
    "pp = pprint.PrettyPrinter(indent=4)"
   ]
  },
  {
   "cell_type": "code",
   "execution_count": null,
   "id": "1f61c109-2ab3-4aa1-b9b9-50c91f476ef7",
   "metadata": {},
   "outputs": [],
   "source": [
    "DATA_DIR    = \"/project/def-mdiamond/tomren/mathusla/data/fit_study\""
   ]
  }
 ],
 "metadata": {
  "kernelspec": {
   "display_name": "Singularity V04-07",
   "language": "python",
   "name": "cdms_v04-07"
  },
  "language_info": {
   "codemirror_mode": {
    "name": "ipython",
    "version": 3
   },
   "file_extension": ".py",
   "mimetype": "text/x-python",
   "name": "python",
   "nbconvert_exporter": "python",
   "pygments_lexer": "ipython3",
   "version": "3.8.10"
  }
 },
 "nbformat": 4,
 "nbformat_minor": 5
}
